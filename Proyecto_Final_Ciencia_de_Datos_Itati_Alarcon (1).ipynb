{
  "metadata": {
    "kernelspec": {
      "name": "python",
      "display_name": "Python (Pyodide)",
      "language": "python"
    },
    "language_info": {
      "codemirror_mode": {
        "name": "python",
        "version": 3
      },
      "file_extension": ".py",
      "mimetype": "text/x-python",
      "name": "python",
      "nbconvert_exporter": "python",
      "pygments_lexer": "ipython3",
      "version": "3.8"
    }
  },
  "nbformat_minor": 5,
  "nbformat": 4,
  "cells": [
    {
      "id": "c5fe4c29",
      "cell_type": "markdown",
      "source": "# Proyecto Final - Herramientas de Ciencia de Datos",
      "metadata": {}
    },
    {
      "id": "05fcf992",
      "cell_type": "markdown",
      "source": "Este cuaderno contiene una exploración básica de conceptos fundamentales en Ciencia de Datos.",
      "metadata": {}
    },
    {
      "id": "e6942b18",
      "cell_type": "markdown",
      "source": "## Lenguajes comunes usados en Ciencia de Datos\n1. Python\n2. R\n3. SQL\n4. Julia\n5. Scala",
      "metadata": {}
    },
    {
      "id": "699b450a",
      "cell_type": "markdown",
      "source": "## Bibliotecas populares de Ciencia de Datos\n1. Pandas\n2. NumPy\n3. Matplotlib\n4. Seaborn\n5. Scikit-learn",
      "metadata": {
        "jp-MarkdownHeadingCollapsed": true
      }
    },
    {
      "id": "f5ddd270",
      "cell_type": "markdown",
      "source": "## Herramientas de Ciencia de Datos\n| Herramienta | Descripción |\n|------------|-------------|\n| Jupyter | Entorno interactivo para notebooks |\n| RStudio | IDE para R |\n| VS Code | Editor de código |\n| Apache Spark | Framework para big data |\n| TensorFlow | Biblioteca de machine learning |",
      "metadata": {}
    },
    {
      "id": "f88c11ae",
      "cell_type": "markdown",
      "source": "## Objetivos del cuaderno\n- Aprender sobre lenguajes de ciencia de datos\n- Conocer bibliotecas comunes\n- Aplicar operaciones matemáticas básicas",
      "metadata": {}
    },
    {
      "id": "89eb02f9",
      "cell_type": "markdown",
      "source": "A continuación, mostramos algunos ejemplos de expresiones aritméticas básicas en Python.",
      "metadata": {}
    },
    {
      "id": "89aa3340",
      "cell_type": "code",
      "source": "# Ejercicio 8\n# Multiplicación y suma\na = 5\nb = 3\nsuma = a + b\nproducto = a * b\nprint(\"Suma:\", suma)\nprint(\"Producto:\", producto)",
      "metadata": {},
      "outputs": [],
      "execution_count": null
    },
    {
      "id": "629821eb",
      "cell_type": "code",
      "source": "# Ejercicio 9\n# Convertir minutos a horas\nminutos = 120\nhoras = minutos / 60\nprint(\"Horas:\", horas)",
      "metadata": {},
      "outputs": [],
      "execution_count": null
    },
    {
      "id": "674fdec4",
      "cell_type": "markdown",
      "source": "**Autor:** Itatí Alarcón",
      "metadata": {}
    }
  ]
}