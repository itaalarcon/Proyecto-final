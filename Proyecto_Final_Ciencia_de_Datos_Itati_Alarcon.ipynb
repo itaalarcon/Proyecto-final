{
 "cells": [
  {
   "cell_type": "markdown",
   "id": "c5fe4c29",
   "metadata": {},
   "source": [
    "# Proyecto Final - Herramientas de Ciencia de Datos"
   ]
  },
  {
   "cell_type": "markdown",
   "id": "05fcf992",
   "metadata": {},
   "source": [
    "Este cuaderno contiene una exploración básica de conceptos fundamentales en Ciencia de Datos."
   ]
  },
  {
   "cell_type": "markdown",
   "id": "e6942b18",
   "metadata": {},
   "source": [
    "## Lenguajes comunes usados en Ciencia de Datos\n",
    "1. Python\n",
    "2. R\n",
    "3. SQL\n",
    "4. Julia\n",
    "5. Scala"
   ]
  },
  {
   "cell_type": "markdown",
   "id": "699b450a",
   "metadata": {},
   "source": [
    "## Bibliotecas populares de Ciencia de Datos\n",
    "1. Pandas\n",
    "2. NumPy\n",
    "3. Matplotlib\n",
    "4. Seaborn\n",
    "5. Scikit-learn"
   ]
  },
  {
   "cell_type": "markdown",
   "id": "f5ddd270",
   "metadata": {},
   "source": [
    "## Herramientas de Ciencia de Datos\n",
    "| Herramienta | Descripción |\n",
    "|------------|-------------|\n",
    "| Jupyter | Entorno interactivo para notebooks |\n",
    "| RStudio | IDE para R |\n",
    "| VS Code | Editor de código |\n",
    "| Apache Spark | Framework para big data |\n",
    "| TensorFlow | Biblioteca de machine learning |"
   ]
  },
  {
   "cell_type": "markdown",
   "id": "89eb02f9",
   "metadata": {},
   "source": [
    "A continuación, mostramos algunos ejemplos de expresiones aritméticas básicas en Python."
   ]
  },
  {
   "cell_type": "markdown",
   "id": "f88c11ae",
   "metadata": {},
   "source": [
    "## Objetivos del cuaderno\n",
    "- Aprender sobre lenguajes de ciencia de datos\n",
    "- Conocer bibliotecas comunes\n",
    "- Aplicar operaciones matemáticas básicas"
   ]
  },
  {
   "cell_type": "markdown",
   "id": "674fdec4",
   "metadata": {},
   "source": [
    "**Autor:** Itatí Alarcón"
   ]
  },
  {
   "cell_type": "code",
   "execution_count": null,
   "id": "89aa3340",
   "metadata": {},
   "outputs": [],
   "source": [
    "# Ejercicio 8\n",
    "# Multiplicación y suma\n",
    "a = 5\n",
    "b = 3\n",
    "suma = a + b\n",
    "producto = a * b\n",
    "print(\"Suma:\", suma)\n",
    "print(\"Producto:\", producto)"
   ]
  },
  {
   "cell_type": "code",
   "execution_count": null,
   "id": "629821eb",
   "metadata": {},
   "outputs": [],
   "source": [
    "# Ejercicio 9\n",
    "# Convertir minutos a horas\n",
    "minutos = 120\n",
    "horas = minutos / 60\n",
    "print(\"Horas:\", horas)"
   ]
  }
 ],
 "metadata": {},
 "nbformat": 4,
 "nbformat_minor": 5
}
